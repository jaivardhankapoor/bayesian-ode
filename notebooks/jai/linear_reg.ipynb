{
 "cells": [
  {
   "cell_type": "markdown",
   "metadata": {},
   "source": [
    "The following code tests the MALA sampler on a toy problem of 1-dimensional Bayesian Linear Regression."
   ]
  },
  {
   "cell_type": "code",
   "execution_count": 1,
   "metadata": {},
   "outputs": [
    {
     "name": "stdout",
     "output_type": "stream",
     "text": [
      "/m/home/home5/56/kapoorj1/unix/repos/bayesian-ode\n"
     ]
    }
   ],
   "source": [
    "%cd \"../../\"\n",
    "import torch\n",
    "import numpy as np\n",
    "from matplotlib import pyplot as plt"
   ]
  },
  {
   "cell_type": "code",
   "execution_count": 2,
   "metadata": {},
   "outputs": [
    {
     "data": {
      "text/plain": [
       "<matplotlib.collections.PathCollection at 0x7f0e7cbe2c18>"
      ]
     },
     "execution_count": 2,
     "metadata": {},
     "output_type": "execute_result"
    },
    {
     "data": {
      "image/png": "[encoded data removed]",
      "text/plain": [
       "<Figure size 432x288 with 1 Axes>"
      ]
     },
     "metadata": {
      "needs_background": "light"
     },
     "output_type": "display_data"
    }
   ],
   "source": [
    "\n",
    "x_data = torch.Tensor([[x] for x in np.linspace(1, 10)])\n",
    "w_true = 50\n",
    "b_true = 400\n",
    "y_data = x_data*w_true + b_true\n",
    "y_data += torch.randn(y_data.size())*30\n",
    "plt.scatter(np.array([i[0] for i in x_data.data]), np.array([i[0] for i in y_data.data]))\n"
   ]
  },
  {
   "cell_type": "code",
   "execution_count": 3,
   "metadata": {},
   "outputs": [],
   "source": [
    "\n",
    "# class MODEL(torch.nn.Module):\n",
    "#     def __init__(self):\n",
    "#         super().__init__()\n",
    "#         self.linear = torch.nn.Linear(1, 100)\n",
    "#         self.linear2 = torch.nn.Linear(100, 1)\n",
    "        \n",
    "#     def forward(self, x):\n",
    "#         y = self.linear(x)\n",
    "#         z = self.linear2(y)\n",
    "#         return y\n",
    "    \n",
    "class MODEL(torch.nn.Module):\n",
    "    def __init__(self):\n",
    "        super().__init__()\n",
    "        self.linear = torch.nn.Linear(1, 1)\n",
    "        \n",
    "    def forward(self, x):\n",
    "        y = self.linear(x)\n",
    "        return y\n",
    "\n",
    "model = MODEL()"
   ]
  },
  {
   "cell_type": "code",
   "execution_count": 4,
   "metadata": {},
   "outputs": [],
   "source": [
    "from samplers.metrics import eval_full_hessian, SoftAbsMetric\n",
    "\n",
    "def hess_closure():\n",
    "    return eval_full_hessian(torch.autograd.grad(closure(), model.parameters(), create_graph=True), model.parameters())\n",
    "\n",
    "metric = SoftAbsMetric(closure=hess_closure)"
   ]
  },
  {
   "cell_type": "code",
   "execution_count": 5,
   "metadata": {},
   "outputs": [
    {
     "name": "stdout",
     "output_type": "stream",
     "text": [
      "<class 'dict'>\n"
     ]
    }
   ],
   "source": [
    "from samplers import MALA, SGLD, MMALA\n",
    "# sampler = MALA(model.parameters(), lr = 0.0001, add_noise=True)\n",
    "# sampler = SGLD(model.parameters(), lr0=0.003, gamma=0.55, t0=100, alpha=0.1)\n",
    "sampler = MMALA(model.parameters(), metric_obj=metric, lr=0.00001)\n"
   ]
  },
  {
   "cell_type": "code",
   "execution_count": 6,
   "metadata": {},
   "outputs": [],
   "source": [
    "def closure():\n",
    "    criterion = torch.nn.MSELoss(reduction='sum')\n",
    "    loss = criterion(model(x_data), y_data)\n",
    "    lambda_ = 0.3\n",
    "    for p in model.parameters():\n",
    "        loss += lambda_ * p.pow(2).sum()\n",
    "    return loss\n"
   ]
  },
  {
   "cell_type": "code",
   "execution_count": 7,
   "metadata": {},
   "outputs": [
    {
     "name": "stdout",
     "output_type": "stream",
     "text": [
      "Burn-in phase started\n",
      "Burn-in iter 1\n",
      "Burn-in iter 2\n",
      "Burn-in iter 3\n",
      "Burn-in iter 4\n",
      "Burn-in iter 5\n",
      "Burn-in iter 6\n",
      "Burn-in iter 7\n",
      "Burn-in iter 8\n",
      "Burn-in iter 9\n",
      "Burn-in iter 10\n",
      "Burn-in iter 11\n",
      "Burn-in iter 12\n",
      "Burn-in iter 13\n",
      "Burn-in iter 14\n",
      "Burn-in iter 15\n",
      "Burn-in iter 16\n",
      "Burn-in iter 17\n",
      "Burn-in iter 18\n",
      "Burn-in iter 19\n",
      "Burn-in iter 20\n",
      "Burn-in iter 21\n",
      "Burn-in iter 22\n",
      "Burn-in iter 23\n",
      "Burn-in iter 24\n",
      "Burn-in iter 25\n",
      "Burn-in iter 26\n",
      "Burn-in iter 27\n",
      "Burn-in iter 28\n"
     ]
    },
    {
     "ename": "RuntimeError",
     "evalue": "Rejection step copying does not work",
     "output_type": "error",
     "traceback": [
      "\u001b[0;31m---------------------------------------------------------------------------\u001b[0m",
      "\u001b[0;31mRuntimeError\u001b[0m                              Traceback (most recent call last)",
      "\u001b[0;32m<ipython-input-7-fc5fd88bfbc9>\u001b[0m in \u001b[0;36m<module>\u001b[0;34m\u001b[0m\n\u001b[0;32m----> 1\u001b[0;31m \u001b[0mchain\u001b[0m\u001b[0;34m,\u001b[0m \u001b[0mlogp_array\u001b[0m \u001b[0;34m=\u001b[0m \u001b[0msampler\u001b[0m\u001b[0;34m.\u001b[0m\u001b[0msample\u001b[0m\u001b[0;34m(\u001b[0m\u001b[0mclosure\u001b[0m\u001b[0;34m,\u001b[0m \u001b[0mburn_in\u001b[0m\u001b[0;34m=\u001b[0m\u001b[0;36m1000\u001b[0m\u001b[0;34m,\u001b[0m \u001b[0mnum_samples\u001b[0m\u001b[0;34m=\u001b[0m\u001b[0;36m200\u001b[0m\u001b[0;34m)\u001b[0m\u001b[0;34m\u001b[0m\u001b[0;34m\u001b[0m\u001b[0m\n\u001b[0m",
      "\u001b[0;32m/m/home/home5/56/kapoorj1/unix/repos/bayesian-ode/samplers/sgrld.py\u001b[0m in \u001b[0;36msample\u001b[0;34m(self, closure, num_samples, burn_in)\u001b[0m\n\u001b[1;32m    135\u001b[0m             \u001b[0;32mif\u001b[0m \u001b[0;32mnot\u001b[0m \u001b[0mis_accepted\u001b[0m\u001b[0;34m:\u001b[0m\u001b[0;34m\u001b[0m\u001b[0;34m\u001b[0m\u001b[0m\n\u001b[1;32m    136\u001b[0m                 \u001b[0;32mif\u001b[0m \u001b[0;32mnot\u001b[0m \u001b[0mtorch\u001b[0m\u001b[0;34m.\u001b[0m\u001b[0meq\u001b[0m\u001b[0;34m(\u001b[0m\u001b[0mself\u001b[0m\u001b[0;34m.\u001b[0m\u001b[0mparams\u001b[0m\u001b[0;34m[\u001b[0m\u001b[0;36m0\u001b[0m\u001b[0;34m]\u001b[0m\u001b[0;34m.\u001b[0m\u001b[0mdata\u001b[0m\u001b[0;34m,\u001b[0m \u001b[0mparam_prev\u001b[0m\u001b[0;34m.\u001b[0m\u001b[0mdata\u001b[0m\u001b[0;34m)\u001b[0m\u001b[0;34m.\u001b[0m\u001b[0mall\u001b[0m\u001b[0;34m(\u001b[0m\u001b[0;34m)\u001b[0m\u001b[0;34m:\u001b[0m\u001b[0;34m\u001b[0m\u001b[0;34m\u001b[0m\u001b[0m\n\u001b[0;32m--> 137\u001b[0;31m                     \u001b[0;32mraise\u001b[0m \u001b[0mRuntimeError\u001b[0m\u001b[0;34m(\u001b[0m\u001b[0;34m\"Rejection step copying does not work\"\u001b[0m\u001b[0;34m)\u001b[0m\u001b[0;34m\u001b[0m\u001b[0;34m\u001b[0m\u001b[0m\n\u001b[0m\u001b[1;32m    138\u001b[0m             \u001b[0;31m#####\u001b[0m\u001b[0;34m\u001b[0m\u001b[0;34m\u001b[0m\u001b[0;34m\u001b[0m\u001b[0m\n\u001b[1;32m    139\u001b[0m \u001b[0;34m\u001b[0m\u001b[0m\n",
      "\u001b[0;31mRuntimeError\u001b[0m: Rejection step copying does not work"
     ]
    }
   ],
   "source": [
    "chain, logp_array = sampler.sample(closure, burn_in=1000, num_samples=200)\n"
   ]
  },
  {
   "cell_type": "code",
   "execution_count": null,
   "metadata": {},
   "outputs": [],
   "source": [
    "# plt.scatter(np.array([i[0] for i in x_data.data]), np.array([i[0] for i in model(x_data).data]))\n",
    "plt.hist([i[0][0][0][0][0] for i in chain if i[1]], bins=100)\n",
    "np.mean([i[0][0][0][0][0] for i in chain if i[1]])"
   ]
  },
  {
   "cell_type": "code",
   "execution_count": null,
   "metadata": {},
   "outputs": [],
   "source": [
    "plt.hist([i[0][0][1][0] for i in chain if i[1]], bins=100)\n",
    "\n",
    "np.mean([i[0][0][1][0] for i in chain if i[1]])"
   ]
  },
  {
   "cell_type": "code",
   "execution_count": null,
   "metadata": {},
   "outputs": [],
   "source": [
    "plt.scatter(np.array([i[0] for i in x_data.data]), np.array([i[0] for i in y_data.data]))\n",
    "plt.plot(np.array([i[0] for i in x_data.data]), np.array([i[0] for i in model(x_data).data]), c='k')\n"
   ]
  },
  {
   "cell_type": "code",
   "execution_count": null,
   "metadata": {},
   "outputs": [],
   "source": [
    "from samplers.utils import eval_hessian\n",
    "\n",
    "hess = eval_hessian(torch.autograd.grad(closure(), model.parameters(), create_graph=True), model)"
   ]
  },
  {
   "cell_type": "code",
   "execution_count": null,
   "metadata": {},
   "outputs": [],
   "source": [
    "chain\n"
   ]
  },
  {
   "cell_type": "code",
   "execution_count": null,
   "metadata": {},
   "outputs": [],
   "source": []
  },
  {
   "cell_type": "code",
   "execution_count": null,
   "metadata": {},
   "outputs": [],
   "source": []
  },
  {
   "cell_type": "code",
   "execution_count": null,
   "metadata": {},
   "outputs": [],
   "source": []
  }
 ],
 "metadata": {
  "file_extension": ".py",
  "kernelspec": {
   "display_name": "Python 3",
   "language": "python",
   "name": "python3"
  },
  "language_info": {
   "codemirror_mode": {
    "name": "ipython",
    "version": 3
   },
   "file_extension": ".py",
   "mimetype": "text/x-python",
   "name": "python",
   "nbconvert_exporter": "python",
   "pygments_lexer": "ipython3",
   "version": "3.6.7"
  },
  "mimetype": "text/x-python",
  "name": "python",
  "npconvert_exporter": "python",
  "pygments_lexer": "ipython3",
  "version": 3
 },
 "nbformat": 4,
 "nbformat_minor": 2
}
